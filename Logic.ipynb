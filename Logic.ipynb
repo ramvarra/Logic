{
 "cells": [
  {
   "cell_type": "code",
   "execution_count": 1,
   "metadata": {
    "collapsed": true
   },
   "outputs": [],
   "source": [
    "import pyeda.inter as eda"
   ]
  },
  {
   "cell_type": "code",
   "execution_count": 3,
   "metadata": {
    "collapsed": true
   },
   "outputs": [],
   "source": [
    "a, b, c = eda.exprvar?"
   ]
  },
  {
   "cell_type": "code",
   "execution_count": 4,
   "metadata": {
    "collapsed": true
   },
   "outputs": [],
   "source": [
    "a, b, c = [eda.exprvar(n) for n in 'abc']"
   ]
  },
  {
   "cell_type": "code",
   "execution_count": 8,
   "metadata": {},
   "outputs": [
    {
     "data": {
      "text/plain": [
       "[{a: 0, b: 0, c: 0},\n",
       " {a: 1, b: 0, c: 0},\n",
       " {a: 0, b: 1, c: 0},\n",
       " {a: 1, b: 1, c: 0},\n",
       " {a: 0, b: 0, c: 1},\n",
       " {a: 1, b: 0, c: 1},\n",
       " {a: 0, b: 1, c: 1},\n",
       " {a: 1, b: 1, c: 1}]"
      ]
     },
     "execution_count": 8,
     "metadata": {},
     "output_type": "execute_result"
    }
   ],
   "source": [
    "list(eda.iter_points([a, b, c]))"
   ]
  },
  {
   "cell_type": "code",
   "execution_count": 29,
   "metadata": {},
   "outputs": [
    {
     "data": {
      "text/plain": [
       "Or(And(~abc[0], abc[1], ~abc[2]), And(~abc[0], ~abc[1], abc[2]), And(abc[0], abc[1], abc[2]), And(abc[0], ~abc[1], ~abc[2]))"
      ]
     },
     "execution_count": 29,
     "metadata": {},
     "output_type": "execute_result"
    }
   ],
   "source": [
    "# full adder\n",
    "\n",
    "abc = eda.exprvars(\"abc\", 3)\n",
    "s = eda.truthtable(abc, \"01101001\")\n",
    "co = eda.truthtable(abc, \"00010111\")\n",
    "\n",
    "eda.truthtable2expr(s)"
   ]
  },
  {
   "cell_type": "code",
   "execution_count": 42,
   "metadata": {},
   "outputs": [],
   "source": [
    "a, b, c = map(eda.exprvar, \"abc\")\n",
    "s = eda.truthtable2expr(eda.truthtable([a, b, c], \"01101001\"))\n",
    "co = eda.truthtable2expr(eda.truthtable([a, b, c], \"00010111\"))\n"
   ]
  },
  {
   "cell_type": "code",
   "execution_count": 46,
   "metadata": {},
   "outputs": [
    {
     "data": {
      "text/plain": [
       "Or(And(~a, b, ~c), And(~a, ~b, c), And(a, b, c), And(a, ~b, ~c))"
      ]
     },
     "execution_count": 46,
     "metadata": {},
     "output_type": "execute_result"
    }
   ],
   "source": [
    "s"
   ]
  },
  {
   "cell_type": "code",
   "execution_count": 50,
   "metadata": {},
   "outputs": [
    {
     "data": {
      "text/plain": [
       "'graph EXPR { rankdir=BT; n1979727520 [label=\"~a\",shape=box]; n1979728864 [label=\"b\",shape=box]; n1979729344 [label=\"~c\",shape=box]; n1979731024 [label=and,shape=circle]; n1979727520 [label=\"~a\",shape=box]; n1979727280 [label=\"~b\",shape=box]; n1979727856 [label=\"c\",shape=box]; n1979730688 [label=and,shape=circle]; n1979729152 [label=\"a\",shape=box]; n1979728864 [label=\"b\",shape=box]; n1979727856 [label=\"c\",shape=box]; n1979730208 [label=and,shape=circle]; n1979729152 [label=\"a\",shape=box]; n1979727280 [label=\"~b\",shape=box]; n1979729344 [label=\"~c\",shape=box]; n1979730880 [label=and,shape=circle]; n1979730832 [label=or,shape=circle]; n1979727520 -- n1979731024; n1979728864 -- n1979731024; n1979729344 -- n1979731024; n1979727520 -- n1979730688; n1979727280 -- n1979730688; n1979727856 -- n1979730688; n1979729152 -- n1979730208; n1979728864 -- n1979730208; n1979727856 -- n1979730208; n1979729152 -- n1979730880; n1979727280 -- n1979730880; n1979729344 -- n1979730880; n1979731024 -- n1979730832; n1979730688 -- n1979730832; n1979730208 -- n1979730832; n1979730880 -- n1979730832; }'"
      ]
     },
     "execution_count": 50,
     "metadata": {},
     "output_type": "execute_result"
    }
   ],
   "source": [
    "s.to_dot()"
   ]
  },
  {
   "cell_type": "code",
   "execution_count": 31,
   "metadata": {},
   "outputs": [
    {
     "data": {
      "text/plain": [
       "Or(And(~a, b), And(a, ~b))"
      ]
     },
     "execution_count": 31,
     "metadata": {},
     "output_type": "execute_result"
    }
   ],
   "source": [
    "a, b = map(eda.exprvar, \"ab\")\n",
    "c = eda.truthtable([a, b], \"0110\")\n",
    "eda.truthtable2expr(c)"
   ]
  },
  {
   "cell_type": "code",
   "execution_count": 33,
   "metadata": {},
   "outputs": [
    {
     "data": {
      "text/plain": [
       "b a\n",
       "0 0 : 0\n",
       "0 1 : 1\n",
       "1 0 : 1\n",
       "1 1 : 0"
      ]
     },
     "execution_count": 33,
     "metadata": {},
     "output_type": "execute_result"
    }
   ],
   "source": [
    "eda.expr2truthtable(c)"
   ]
  },
  {
   "cell_type": "code",
   "execution_count": 40,
   "metadata": {
    "collapsed": true
   },
   "outputs": [],
   "source": [
    "xor = eda.Or(eda.And(eda.Not(a), b), eda.And(a, eda.Not(b)))\n",
    "xor = (~a & b)|(a & ~b)"
   ]
  },
  {
   "cell_type": "code",
   "execution_count": 41,
   "metadata": {},
   "outputs": [
    {
     "data": {
      "text/plain": [
       "b a\n",
       "0 0 : 0\n",
       "0 1 : 1\n",
       "1 0 : 1\n",
       "1 1 : 0"
      ]
     },
     "execution_count": 41,
     "metadata": {},
     "output_type": "execute_result"
    }
   ],
   "source": [
    "eda.expr2truthtable(xor)"
   ]
  },
  {
   "cell_type": "code",
   "execution_count": 37,
   "metadata": {},
   "outputs": [
    {
     "data": {
      "text/plain": [
       "False"
      ]
     },
     "execution_count": 37,
     "metadata": {},
     "output_type": "execute_result"
    }
   ],
   "source": [
    "xor == c"
   ]
  },
  {
   "cell_type": "code",
   "execution_count": 53,
   "metadata": {},
   "outputs": [],
   "source": [
    "import graphviz"
   ]
  },
  {
   "cell_type": "code",
   "execution_count": 54,
   "metadata": {
    "collapsed": true
   },
   "outputs": [],
   "source": [
    "g = graphviz.Source(xor.to_dot())"
   ]
  },
  {
   "cell_type": "code",
   "execution_count": 55,
   "metadata": {},
   "outputs": [
    {
     "data": {
      "image/svg+xml": [
       "<?xml version=\"1.0\" encoding=\"UTF-8\" standalone=\"no\"?>\r\n",
       "<!DOCTYPE svg PUBLIC \"-//W3C//DTD SVG 1.1//EN\"\r\n",
       " \"http://www.w3.org/Graphics/SVG/1.1/DTD/svg11.dtd\">\r\n",
       "<!-- Generated by graphviz version 2.38.0 (20140413.2041)\r\n",
       " -->\r\n",
       "<!-- Title: EXPR Pages: 1 -->\r\n",
       "<svg width=\"278pt\" height=\"202pt\"\r\n",
       " viewBox=\"0.00 0.00 278.00 201.79\" xmlns=\"http://www.w3.org/2000/svg\" xmlns:xlink=\"http://www.w3.org/1999/xlink\">\r\n",
       "<g id=\"graph0\" class=\"graph\" transform=\"scale(1 1) rotate(0) translate(4 197.792)\">\r\n",
       "<title>EXPR</title>\r\n",
       "<polygon fill=\"white\" stroke=\"none\" points=\"-4,4 -4,-197.792 274,-197.792 274,4 -4,4\"/>\r\n",
       "<!-- n1979727520 -->\r\n",
       "<g id=\"node1\" class=\"node\"><title>n1979727520</title>\r\n",
       "<polygon fill=\"none\" stroke=\"black\" points=\"54,-36 0,-36 0,-0 54,-0 54,-36\"/>\r\n",
       "<text text-anchor=\"middle\" x=\"27\" y=\"-14.3\" font-family=\"Times New Roman,serif\" font-size=\"14.00\">~a</text>\r\n",
       "</g>\r\n",
       "<!-- n1979731072 -->\r\n",
       "<g id=\"node3\" class=\"node\"><title>n1979731072</title>\r\n",
       "<ellipse fill=\"none\" stroke=\"black\" cx=\"99\" cy=\"-96.0479\" rx=\"24.0958\" ry=\"24.0958\"/>\r\n",
       "<text text-anchor=\"middle\" x=\"99\" y=\"-92.3479\" font-family=\"Times New Roman,serif\" font-size=\"14.00\">and</text>\r\n",
       "</g>\r\n",
       "<!-- n1979727520&#45;&#45;n1979731072 -->\r\n",
       "<g id=\"edge1\" class=\"edge\"><title>n1979727520&#45;&#45;n1979731072</title>\r\n",
       "<path fill=\"none\" stroke=\"black\" d=\"M43.3379,-36.2564C55.1212,-48.7021 70.9584,-65.4297 82.7267,-77.8597\"/>\r\n",
       "</g>\r\n",
       "<!-- n1979728864 -->\r\n",
       "<g id=\"node2\" class=\"node\"><title>n1979728864</title>\r\n",
       "<polygon fill=\"none\" stroke=\"black\" points=\"126,-36 72,-36 72,-0 126,-0 126,-36\"/>\r\n",
       "<text text-anchor=\"middle\" x=\"99\" y=\"-14.3\" font-family=\"Times New Roman,serif\" font-size=\"14.00\">b</text>\r\n",
       "</g>\r\n",
       "<!-- n1979728864&#45;&#45;n1979731072 -->\r\n",
       "<g id=\"edge2\" class=\"edge\"><title>n1979728864&#45;&#45;n1979731072</title>\r\n",
       "<path fill=\"none\" stroke=\"black\" d=\"M99,-36.2564C99,-46.7739 99,-60.3493 99,-71.8048\"/>\r\n",
       "</g>\r\n",
       "<!-- n1979730928 -->\r\n",
       "<g id=\"node7\" class=\"node\"><title>n1979730928</title>\r\n",
       "<ellipse fill=\"none\" stroke=\"black\" cx=\"135\" cy=\"-174.944\" rx=\"18.6979\" ry=\"18.6979\"/>\r\n",
       "<text text-anchor=\"middle\" x=\"135\" y=\"-171.244\" font-family=\"Times New Roman,serif\" font-size=\"14.00\">or</text>\r\n",
       "</g>\r\n",
       "<!-- n1979731072&#45;&#45;n1979730928 -->\r\n",
       "<g id=\"edge5\" class=\"edge\"><title>n1979731072&#45;&#45;n1979730928</title>\r\n",
       "<path fill=\"none\" stroke=\"black\" d=\"M108.837,-118.06C114.666,-130.511 121.944,-146.057 127.343,-157.589\"/>\r\n",
       "</g>\r\n",
       "<!-- n1979729152 -->\r\n",
       "<g id=\"node4\" class=\"node\"><title>n1979729152</title>\r\n",
       "<polygon fill=\"none\" stroke=\"black\" points=\"198,-36 144,-36 144,-0 198,-0 198,-36\"/>\r\n",
       "<text text-anchor=\"middle\" x=\"171\" y=\"-14.3\" font-family=\"Times New Roman,serif\" font-size=\"14.00\">a</text>\r\n",
       "</g>\r\n",
       "<!-- n1979730784 -->\r\n",
       "<g id=\"node6\" class=\"node\"><title>n1979730784</title>\r\n",
       "<ellipse fill=\"none\" stroke=\"black\" cx=\"171\" cy=\"-96.0479\" rx=\"24.0958\" ry=\"24.0958\"/>\r\n",
       "<text text-anchor=\"middle\" x=\"171\" y=\"-92.3479\" font-family=\"Times New Roman,serif\" font-size=\"14.00\">and</text>\r\n",
       "</g>\r\n",
       "<!-- n1979729152&#45;&#45;n1979730784 -->\r\n",
       "<g id=\"edge3\" class=\"edge\"><title>n1979729152&#45;&#45;n1979730784</title>\r\n",
       "<path fill=\"none\" stroke=\"black\" d=\"M171,-36.2564C171,-46.7739 171,-60.3493 171,-71.8048\"/>\r\n",
       "</g>\r\n",
       "<!-- n1979727280 -->\r\n",
       "<g id=\"node5\" class=\"node\"><title>n1979727280</title>\r\n",
       "<polygon fill=\"none\" stroke=\"black\" points=\"270,-36 216,-36 216,-0 270,-0 270,-36\"/>\r\n",
       "<text text-anchor=\"middle\" x=\"243\" y=\"-14.3\" font-family=\"Times New Roman,serif\" font-size=\"14.00\">~b</text>\r\n",
       "</g>\r\n",
       "<!-- n1979727280&#45;&#45;n1979730784 -->\r\n",
       "<g id=\"edge4\" class=\"edge\"><title>n1979727280&#45;&#45;n1979730784</title>\r\n",
       "<path fill=\"none\" stroke=\"black\" d=\"M226.662,-36.2564C214.879,-48.7021 199.042,-65.4297 187.273,-77.8597\"/>\r\n",
       "</g>\r\n",
       "<!-- n1979730784&#45;&#45;n1979730928 -->\r\n",
       "<g id=\"edge6\" class=\"edge\"><title>n1979730784&#45;&#45;n1979730928</title>\r\n",
       "<path fill=\"none\" stroke=\"black\" d=\"M161.163,-118.06C155.334,-130.511 148.056,-146.057 142.657,-157.589\"/>\r\n",
       "</g>\r\n",
       "</g>\r\n",
       "</svg>\r\n"
      ],
      "text/plain": [
       "<graphviz.files.Source at 0x24677e01b38>"
      ]
     },
     "execution_count": 55,
     "metadata": {},
     "output_type": "execute_result"
    }
   ],
   "source": [
    "g"
   ]
  },
  {
   "cell_type": "code",
   "execution_count": 56,
   "metadata": {},
   "outputs": [
    {
     "data": {
      "image/svg+xml": [
       "<?xml version=\"1.0\" encoding=\"UTF-8\" standalone=\"no\"?>\r\n",
       "<!DOCTYPE svg PUBLIC \"-//W3C//DTD SVG 1.1//EN\"\r\n",
       " \"http://www.w3.org/Graphics/SVG/1.1/DTD/svg11.dtd\">\r\n",
       "<!-- Generated by graphviz version 2.38.0 (20140413.2041)\r\n",
       " -->\r\n",
       "<!-- Title: EXPR Pages: 1 -->\r\n",
       "<svg width=\"422pt\" height=\"202pt\"\r\n",
       " viewBox=\"0.00 0.00 422.00 201.79\" xmlns=\"http://www.w3.org/2000/svg\" xmlns:xlink=\"http://www.w3.org/1999/xlink\">\r\n",
       "<g id=\"graph0\" class=\"graph\" transform=\"scale(1 1) rotate(0) translate(4 197.792)\">\r\n",
       "<title>EXPR</title>\r\n",
       "<polygon fill=\"white\" stroke=\"none\" points=\"-4,4 -4,-197.792 418,-197.792 418,4 -4,4\"/>\r\n",
       "<!-- n1979727520 -->\r\n",
       "<g id=\"node1\" class=\"node\"><title>n1979727520</title>\r\n",
       "<polygon fill=\"none\" stroke=\"black\" points=\"54,-36 0,-36 0,-0 54,-0 54,-36\"/>\r\n",
       "<text text-anchor=\"middle\" x=\"27\" y=\"-14.3\" font-family=\"Times New Roman,serif\" font-size=\"14.00\">~a</text>\r\n",
       "</g>\r\n",
       "<!-- n1979731024 -->\r\n",
       "<g id=\"node4\" class=\"node\"><title>n1979731024</title>\r\n",
       "<ellipse fill=\"none\" stroke=\"black\" cx=\"106\" cy=\"-96.0479\" rx=\"24.0958\" ry=\"24.0958\"/>\r\n",
       "<text text-anchor=\"middle\" x=\"106\" y=\"-92.3479\" font-family=\"Times New Roman,serif\" font-size=\"14.00\">and</text>\r\n",
       "</g>\r\n",
       "<!-- n1979727520&#45;&#45;n1979731024 -->\r\n",
       "<g id=\"edge1\" class=\"edge\"><title>n1979727520&#45;&#45;n1979731024</title>\r\n",
       "<path fill=\"none\" stroke=\"black\" d=\"M44.9263,-36.2564C58.1283,-48.9651 75.9683,-66.1384 88.957,-78.6417\"/>\r\n",
       "</g>\r\n",
       "<!-- n1979730688 -->\r\n",
       "<g id=\"node7\" class=\"node\"><title>n1979730688</title>\r\n",
       "<ellipse fill=\"none\" stroke=\"black\" cx=\"180\" cy=\"-96.0479\" rx=\"24.0958\" ry=\"24.0958\"/>\r\n",
       "<text text-anchor=\"middle\" x=\"180\" y=\"-92.3479\" font-family=\"Times New Roman,serif\" font-size=\"14.00\">and</text>\r\n",
       "</g>\r\n",
       "<!-- n1979727520&#45;&#45;n1979730688 -->\r\n",
       "<g id=\"edge4\" class=\"edge\"><title>n1979727520&#45;&#45;n1979730688</title>\r\n",
       "<path fill=\"none\" stroke=\"black\" d=\"M54.0338,-31.7643C86.512,-47.1034 136.934,-70.932 139,-72 145.674,-75.4494 152.846,-79.3962 159.296,-83.0374\"/>\r\n",
       "</g>\r\n",
       "<!-- n1979728864 -->\r\n",
       "<g id=\"node2\" class=\"node\"><title>n1979728864</title>\r\n",
       "<polygon fill=\"none\" stroke=\"black\" points=\"126,-36 72,-36 72,-0 126,-0 126,-36\"/>\r\n",
       "<text text-anchor=\"middle\" x=\"99\" y=\"-14.3\" font-family=\"Times New Roman,serif\" font-size=\"14.00\">b</text>\r\n",
       "</g>\r\n",
       "<!-- n1979728864&#45;&#45;n1979731024 -->\r\n",
       "<g id=\"edge2\" class=\"edge\"><title>n1979728864&#45;&#45;n1979731024</title>\r\n",
       "<path fill=\"none\" stroke=\"black\" d=\"M100.588,-36.2564C101.565,-46.8616 102.827,-60.5758 103.887,-72.0908\"/>\r\n",
       "</g>\r\n",
       "<!-- n1979730208 -->\r\n",
       "<g id=\"node9\" class=\"node\"><title>n1979730208</title>\r\n",
       "<ellipse fill=\"none\" stroke=\"black\" cx=\"246\" cy=\"-96.0479\" rx=\"24.0958\" ry=\"24.0958\"/>\r\n",
       "<text text-anchor=\"middle\" x=\"246\" y=\"-92.3479\" font-family=\"Times New Roman,serif\" font-size=\"14.00\">and</text>\r\n",
       "</g>\r\n",
       "<!-- n1979728864&#45;&#45;n1979730208 -->\r\n",
       "<g id=\"edge8\" class=\"edge\"><title>n1979728864&#45;&#45;n1979730208</title>\r\n",
       "<path fill=\"none\" stroke=\"black\" d=\"M126.115,-31.8354C129.111,-33.2444 132.119,-34.655 135,-36 169.596,-52.1519 179.886,-52.9944 213,-72 217.727,-74.7133 222.638,-77.9128 227.18,-81.0503\"/>\r\n",
       "</g>\r\n",
       "<!-- n1979729344 -->\r\n",
       "<g id=\"node3\" class=\"node\"><title>n1979729344</title>\r\n",
       "<polygon fill=\"none\" stroke=\"black\" points=\"198,-36 144,-36 144,-0 198,-0 198,-36\"/>\r\n",
       "<text text-anchor=\"middle\" x=\"171\" y=\"-14.3\" font-family=\"Times New Roman,serif\" font-size=\"14.00\">~c</text>\r\n",
       "</g>\r\n",
       "<!-- n1979729344&#45;&#45;n1979731024 -->\r\n",
       "<g id=\"edge3\" class=\"edge\"><title>n1979729344&#45;&#45;n1979731024</title>\r\n",
       "<path fill=\"none\" stroke=\"black\" d=\"M156.25,-36.2564C145.763,-48.5268 131.717,-64.9594 121.142,-77.332\"/>\r\n",
       "</g>\r\n",
       "<!-- n1979730880 -->\r\n",
       "<g id=\"node10\" class=\"node\"><title>n1979730880</title>\r\n",
       "<ellipse fill=\"none\" stroke=\"black\" cx=\"313\" cy=\"-96.0479\" rx=\"24.0958\" ry=\"24.0958\"/>\r\n",
       "<text text-anchor=\"middle\" x=\"313\" y=\"-92.3479\" font-family=\"Times New Roman,serif\" font-size=\"14.00\">and</text>\r\n",
       "</g>\r\n",
       "<!-- n1979729344&#45;&#45;n1979730880 -->\r\n",
       "<g id=\"edge12\" class=\"edge\"><title>n1979729344&#45;&#45;n1979730880</title>\r\n",
       "<path fill=\"none\" stroke=\"black\" d=\"M198.072,-31.7543C225.007,-44.5386 264.369,-63.5064 279,-72 283.934,-74.8642 289.104,-78.189 293.882,-81.4069\"/>\r\n",
       "</g>\r\n",
       "<!-- n1979730832 -->\r\n",
       "<g id=\"node11\" class=\"node\"><title>n1979730832</title>\r\n",
       "<ellipse fill=\"none\" stroke=\"black\" cx=\"213\" cy=\"-174.944\" rx=\"18.6979\" ry=\"18.6979\"/>\r\n",
       "<text text-anchor=\"middle\" x=\"213\" y=\"-171.244\" font-family=\"Times New Roman,serif\" font-size=\"14.00\">or</text>\r\n",
       "</g>\r\n",
       "<!-- n1979731024&#45;&#45;n1979730832 -->\r\n",
       "<g id=\"edge13\" class=\"edge\"><title>n1979731024&#45;&#45;n1979730832</title>\r\n",
       "<path fill=\"none\" stroke=\"black\" d=\"M125.129,-110.795C146.048,-125.829 179.125,-149.599 198.168,-163.285\"/>\r\n",
       "</g>\r\n",
       "<!-- n1979727280 -->\r\n",
       "<g id=\"node5\" class=\"node\"><title>n1979727280</title>\r\n",
       "<polygon fill=\"none\" stroke=\"black\" points=\"342,-36 288,-36 288,-0 342,-0 342,-36\"/>\r\n",
       "<text text-anchor=\"middle\" x=\"315\" y=\"-14.3\" font-family=\"Times New Roman,serif\" font-size=\"14.00\">~b</text>\r\n",
       "</g>\r\n",
       "<!-- n1979727280&#45;&#45;n1979730688 -->\r\n",
       "<g id=\"edge5\" class=\"edge\"><title>n1979727280&#45;&#45;n1979730688</title>\r\n",
       "<path fill=\"none\" stroke=\"black\" d=\"M287.628,-32.0105C266.783,-42.207 237.582,-57.1161 213,-72 208.457,-74.7508 203.703,-77.8996 199.263,-80.9677\"/>\r\n",
       "</g>\r\n",
       "<!-- n1979727280&#45;&#45;n1979730880 -->\r\n",
       "<g id=\"edge11\" class=\"edge\"><title>n1979727280&#45;&#45;n1979730880</title>\r\n",
       "<path fill=\"none\" stroke=\"black\" d=\"M314.546,-36.2564C314.27,-46.7739 313.913,-60.3493 313.611,-71.8048\"/>\r\n",
       "</g>\r\n",
       "<!-- n1979727856 -->\r\n",
       "<g id=\"node6\" class=\"node\"><title>n1979727856</title>\r\n",
       "<polygon fill=\"none\" stroke=\"black\" points=\"270,-36 216,-36 216,-0 270,-0 270,-36\"/>\r\n",
       "<text text-anchor=\"middle\" x=\"243\" y=\"-14.3\" font-family=\"Times New Roman,serif\" font-size=\"14.00\">c</text>\r\n",
       "</g>\r\n",
       "<!-- n1979727856&#45;&#45;n1979730688 -->\r\n",
       "<g id=\"edge6\" class=\"edge\"><title>n1979727856&#45;&#45;n1979730688</title>\r\n",
       "<path fill=\"none\" stroke=\"black\" d=\"M228.704,-36.2564C218.612,-48.4392 205.12,-64.7248 194.896,-77.0662\"/>\r\n",
       "</g>\r\n",
       "<!-- n1979727856&#45;&#45;n1979730208 -->\r\n",
       "<g id=\"edge9\" class=\"edge\"><title>n1979727856&#45;&#45;n1979730208</title>\r\n",
       "<path fill=\"none\" stroke=\"black\" d=\"M243.681,-36.2564C244.096,-46.7739 244.631,-60.3493 245.083,-71.8048\"/>\r\n",
       "</g>\r\n",
       "<!-- n1979730688&#45;&#45;n1979730832 -->\r\n",
       "<g id=\"edge14\" class=\"edge\"><title>n1979730688&#45;&#45;n1979730832</title>\r\n",
       "<path fill=\"none\" stroke=\"black\" d=\"M189.192,-118.468C194.456,-130.733 200.963,-145.896 205.843,-157.268\"/>\r\n",
       "</g>\r\n",
       "<!-- n1979729152 -->\r\n",
       "<g id=\"node8\" class=\"node\"><title>n1979729152</title>\r\n",
       "<polygon fill=\"none\" stroke=\"black\" points=\"414,-36 360,-36 360,-0 414,-0 414,-36\"/>\r\n",
       "<text text-anchor=\"middle\" x=\"387\" y=\"-14.3\" font-family=\"Times New Roman,serif\" font-size=\"14.00\">a</text>\r\n",
       "</g>\r\n",
       "<!-- n1979729152&#45;&#45;n1979730208 -->\r\n",
       "<g id=\"edge7\" class=\"edge\"><title>n1979729152&#45;&#45;n1979730208</title>\r\n",
       "<path fill=\"none\" stroke=\"black\" d=\"M359.687,-32.0067C333.021,-44.7993 294.417,-63.5952 280,-72 275.071,-74.8733 269.903,-78.2015 265.126,-81.4198\"/>\r\n",
       "</g>\r\n",
       "<!-- n1979729152&#45;&#45;n1979730880 -->\r\n",
       "<g id=\"edge10\" class=\"edge\"><title>n1979729152&#45;&#45;n1979730880</title>\r\n",
       "<path fill=\"none\" stroke=\"black\" d=\"M370.208,-36.2564C358.012,-48.7898 341.591,-65.6655 329.47,-78.1217\"/>\r\n",
       "</g>\r\n",
       "<!-- n1979730208&#45;&#45;n1979730832 -->\r\n",
       "<g id=\"edge15\" class=\"edge\"><title>n1979730208&#45;&#45;n1979730832</title>\r\n",
       "<path fill=\"none\" stroke=\"black\" d=\"M236.808,-118.468C231.544,-130.733 225.037,-145.896 220.157,-157.268\"/>\r\n",
       "</g>\r\n",
       "<!-- n1979730880&#45;&#45;n1979730832 -->\r\n",
       "<g id=\"edge16\" class=\"edge\"><title>n1979730880&#45;&#45;n1979730832</title>\r\n",
       "<path fill=\"none\" stroke=\"black\" d=\"M294.191,-111.511C274.841,-126.39 245.116,-149.248 227.509,-162.787\"/>\r\n",
       "</g>\r\n",
       "</g>\r\n",
       "</svg>\r\n"
      ],
      "text/plain": [
       "<graphviz.files.Source at 0x24677e01dd8>"
      ]
     },
     "execution_count": 56,
     "metadata": {},
     "output_type": "execute_result"
    }
   ],
   "source": [
    "g = graphviz.Source(s.to_dot())\n",
    "g"
   ]
  },
  {
   "cell_type": "code",
   "execution_count": null,
   "metadata": {
    "collapsed": true
   },
   "outputs": [],
   "source": []
  }
 ],
 "metadata": {
  "kernelspec": {
   "display_name": "Python 3",
   "language": "python",
   "name": "python3"
  },
  "language_info": {
   "codemirror_mode": {
    "name": "ipython",
    "version": 3
   },
   "file_extension": ".py",
   "mimetype": "text/x-python",
   "name": "python",
   "nbconvert_exporter": "python",
   "pygments_lexer": "ipython3",
   "version": "3.6.3"
  }
 },
 "nbformat": 4,
 "nbformat_minor": 2
}
